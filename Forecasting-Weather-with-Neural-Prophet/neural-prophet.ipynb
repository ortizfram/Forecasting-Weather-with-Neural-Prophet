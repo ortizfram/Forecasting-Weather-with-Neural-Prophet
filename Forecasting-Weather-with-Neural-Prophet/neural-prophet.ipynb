{
 "cells": [
  {
   "cell_type": "markdown",
   "id": "b9e185f3-b48b-4d95-8328-4b3192733467",
   "metadata": {},
   "source": [
    "## 0. Install import dependencies"
   ]
  },
  {
   "cell_type": "markdown",
   "id": "1d4af8a5-7eb5-471e-8a63-7a58f797daf8",
   "metadata": {},
   "source": [
    "## 1. Read data and process dates"
   ]
  },
  {
   "cell_type": "markdown",
   "id": "17870d50-dd2f-4251-8fa0-dc714c67b6b8",
   "metadata": {},
   "source": [
    "## 2. Train model"
   ]
  },
  {
   "cell_type": "markdown",
   "id": "c68b0c84-aa43-4628-b14f-67222a7c18aa",
   "metadata": {},
   "source": [
    "## 3. Forecast away"
   ]
  },
  {
   "cell_type": "markdown",
   "id": "70669e74-fe97-4446-bc18-ea6af8c76812",
   "metadata": {},
   "source": [
    "## 4. Save model"
   ]
  }
 ],
 "metadata": {
  "kernelspec": {
   "display_name": "Python 3 (ipykernel)",
   "language": "python",
   "name": "python3"
  },
  "language_info": {
   "codemirror_mode": {
    "name": "ipython",
    "version": 3
   },
   "file_extension": ".py",
   "mimetype": "text/x-python",
   "name": "python",
   "nbconvert_exporter": "python",
   "pygments_lexer": "ipython3",
   "version": "3.10.7"
  }
 },
 "nbformat": 4,
 "nbformat_minor": 5
}
